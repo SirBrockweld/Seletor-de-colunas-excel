{
 "cells": [
  {
   "cell_type": "code",
   "execution_count": null,
   "metadata": {},
   "outputs": [],
   "source": [
    "import pandas as pd\n",
    "\n",
    "#Lê 2 tabelas excel\n",
    "tabela1 = pd.read_excel('Tabela1.xlsx')\n",
    "tabela2 = pd.read_excel('Tabela2.xlsx')\n",
    "\n",
    "#Junta as tabelas em uma só\n",
    "tabelamerge = pd.merge(tabela1, tabela2, how='outer')\n",
    "\n",
    "display(tabelamerge)\n",
    "#Transforma a coluna \"DATA ATENDIMENTO\" em uma data \n",
    "tabelamerge['DATA ATENDIMENTO'] = pd.to_datetime(tabelamerge['DATA ATENDIMENTO'])\n",
    "\n",
    "#Inserimos a data com a qual queremos trabalhar \n",
    "data_inicio = pd.to_datetime('2023-05-01')\n",
    "\n",
    "#Status que queremos avaliar\n",
    "status = 'CONCLUIDO VENDA'\n",
    "\n",
    "#Selecionamos onde a \"DATA ATENDIMENTO\" é maior que a data que inserimos anteriormente, e tambem se a coluna \"STATUS NEGOCIAÇÃO\" confere com o status passado\n",
    "#Tambem selecionamos só aquilo que precisamos \n",
    "selecao = tabelamerge.loc[(tabelamerge['DATA ATENDIMENTO'] >= data_inicio) & (tabelamerge['STATUS NEGOCIAÇÃO'] == status), ['DATA ATENDIMENTO','VENDEDOR','CODIGO WORK','FORMADO','FORMA DE ATENDIMENTO', 'STATUS NEGOCIAÇÃO','PRODUTO VENDIDO']]\n",
    "\n",
    "display(selecao)\n",
    "\n",
    "#Finalmente criamos um excel com somente as informações necessárias\n",
    "selecao.to_excel('O que interessa.xlsx', index=False)\n"
   ]
  }
 ],
 "metadata": {
  "kernelspec": {
   "display_name": "Python 3",
   "language": "python",
   "name": "python3"
  },
  "language_info": {
   "codemirror_mode": {
    "name": "ipython",
    "version": 3
   },
   "file_extension": ".py",
   "mimetype": "text/x-python",
   "name": "python",
   "nbconvert_exporter": "python",
   "pygments_lexer": "ipython3",
   "version": "3.11.7"
  }
 },
 "nbformat": 4,
 "nbformat_minor": 2
}
